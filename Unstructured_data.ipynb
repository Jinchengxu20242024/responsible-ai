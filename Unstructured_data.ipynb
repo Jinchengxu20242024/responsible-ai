{
  "nbformat": 4,
  "nbformat_minor": 0,
  "metadata": {
    "colab": {
      "provenance": []
    },
    "kernelspec": {
      "name": "python3",
      "display_name": "Python 3"
    },
    "language_info": {
      "name": "python"
    }
  },
  "cells": [
    {
      "cell_type": "markdown",
      "source": [
        "SHAP"
      ],
      "metadata": {
        "id": "lg5SRvcfkJ6P"
      }
    },
    {
      "cell_type": "code",
      "execution_count": null,
      "metadata": {
        "id": "OTTzeVRIhhNC",
        "colab": {
          "base_uri": "https://localhost:8080/"
        },
        "outputId": "33e5199a-64d9-4162-c427-10a4affbaf29"
      },
      "outputs": [
        {
          "output_type": "stream",
          "name": "stdout",
          "text": [
            "Collecting PyPDF2\n",
            "  Downloading pypdf2-3.0.1-py3-none-any.whl.metadata (6.8 kB)\n",
            "Downloading pypdf2-3.0.1-py3-none-any.whl (232 kB)\n",
            "\u001b[?25l   \u001b[90m━━━━━━━━━━━━━━━━━━━━━━━━━━━━━━━━━━━━━━━━\u001b[0m \u001b[32m0.0/232.6 kB\u001b[0m \u001b[31m?\u001b[0m eta \u001b[36m-:--:--\u001b[0m\r\u001b[2K   \u001b[91m━━━━━━━━━━━━\u001b[0m\u001b[90m╺\u001b[0m\u001b[90m━━━━━━━━━━━━━━━━━━━━━━━━━━━\u001b[0m \u001b[32m71.7/232.6 kB\u001b[0m \u001b[31m2.8 MB/s\u001b[0m eta \u001b[36m0:00:01\u001b[0m\r\u001b[2K   \u001b[90m━━━━━━━━━━━━━━━━━━━━━━━━━━━━━━━━━━━━━━━━\u001b[0m \u001b[32m232.6/232.6 kB\u001b[0m \u001b[31m3.3 MB/s\u001b[0m eta \u001b[36m0:00:00\u001b[0m\n",
            "\u001b[?25hInstalling collected packages: PyPDF2\n",
            "Successfully installed PyPDF2-3.0.1\n"
          ]
        }
      ],
      "source": [
        "!pip install PyPDF2"
      ]
    },
    {
      "cell_type": "code",
      "source": [
        "import PyPDF2\n",
        "# Open the PDF file\n",
        "\n",
        "def open_pdf_text(file_path):\n",
        "  with open(file_path, 'rb') as file:\n",
        "      reader = PyPDF2.PdfReader(file)\n",
        "\n",
        "      # Extract text from each page\n",
        "      text_dict = dict()\n",
        "      for page_num in range(len(reader.pages)):\n",
        "          page = reader.pages[page_num]\n",
        "          text_dict[page_num] = page.extract_text()\n",
        "      return text_dict\n",
        "\n",
        "text_dict_uber = open_pdf_text('Uber-Q1-24-Earnings-Press-Release.pdf')\n",
        "text_dict_family = open_pdf_text('American-Families-and-Living-Arrangements-2022.pdf')"
      ],
      "metadata": {
        "id": "xm79oha6m8OB"
      },
      "execution_count": 18,
      "outputs": []
    },
    {
      "cell_type": "code",
      "source": [
        "print(text_dict_uber[0])"
      ],
      "metadata": {
        "colab": {
          "base_uri": "https://localhost:8080/"
        },
        "id": "CACD5_o2sk5P",
        "outputId": "34dc6903-2d36-422e-a6eb-14217b100824"
      },
      "execution_count": 19,
      "outputs": [
        {
          "output_type": "stream",
          "name": "stdout",
          "text": [
            " \n",
            " \n",
            " \n",
            "1    \n",
            "Uber Announces Results for First Quarter  2024  \n",
            " \n",
            "Trips grew 21% year-over-year; MAPCs and monthly trips per MAPC grew 15% and 6% year-over-year, respectively  \n",
            "Gross Bookings grew  20% year-over-year and 21% year-over-year on a constant currency basis  \n",
            "Income from operations of $172 million; Adjusted EBITDA of $1.4 billion , up 82% year-over-year \n",
            "Operating cash flow of $1.4 billion ; Free cash flow of $1.4 billion  \n",
            " \n",
            "SAN FRANCISCO – May  8, 2024  – Uber Technologies, Inc. (NYSE: UBER) today announced financial results for the quarter  ended \n",
            "March  31, 2024 . \n",
            " \n",
            "“Our results this quarter once again demonstrate our ability to deliver consistent, profitable growth at scale,” said Dara \n",
            "Khosrowshahi, CEO. “More than 7 million  people now choose to earn flexibly on Uber every month, with driver earnings of $16.6 \n",
            "billion  continuing to grow faster than our topline .” \n",
            " \n",
            "“Our multi -year growth framework is on track, with audience up 15% and frequency up 6% in Q1,” said Prashanth Mahendra -Rajah, \n",
            "CFO. “We reached a new quarterly record for Adjusted EBITDA, which grew 82% YoY, and we generated free cash flow of \n",
            "$4.2 billion  over the trailing twelve months.”  \n",
            " \n",
            "Financial Highlights for First Quarter  2024  \n",
            "• Gross Bookings grew  20% year-over-year (“YoY”) to $37.7 billion , or 21% on a constant currency basis, with Mobility  \n",
            "Gross Bookings of $18.7 billion  (+25% YoY or + 26% YoY constant currency) and Delivery  Gross Bookings of $17.7 billion  \n",
            "(+18% YoY or + 17% YoY constant currency). Trips during the quarter grew  21% YoY to 2.6 billion , or approximately 28 \n",
            "million  trips per day on average.  \n",
            "• Revenue grew  15% YoY to $10.1 billion , or 15% on a constant currency basis. Combined Mobility and Delivery revenue \n",
            "grew 19% YoY to $8.8 billion , or 19% on a constant currency basis. Business model changes negatively impacted total \n",
            "revenue YoY growth by 8 percentage points. \n",
            "• Income from operations was $172 million , up $434 million  YoY and down $480 million  quarter -over-quarter (“QoQ”).  \n",
            "• Net loss attributable to Uber Technologies, Inc. was $654 million , which includes a $721 million  net headwind (pre -tax) due \n",
            "to net unrealized losses related to the revaluation of Uber’s equity investments.  \n",
            "• Adjusted EBITDA of $1.4 billion , up 82% YoY . Adjusted EBITDA margin as a percentage of Gross Bookings was 3.7% , up \n",
            "from 2.4%  in Q1 2023 .  \n",
            "• Net cash provided by operating activities was $1.4 billion  and free cash flow, defined as net cash flows from operating \n",
            "activities less capital expenditures, was $1.4 billion. \n",
            "• Unrestricted cash, cash equivalents, and short -term investments were $5.8 billion  at the end of the first quarter . \n",
            "Outlook for Q2 2024  \n",
            "For Q2 2024, we anticipate:  \n",
            "• Gross Bookings of $38.75 billion to $40.25 billion, which represents 18% to 23% YoY growth on a constant currency basis.  \n",
            "◦ Our outlook assumes a roughly 3 percentage point currency headwind to total reported YoY growth, including a \n",
            "roughly 5 percentage point currency headwind to Mobility’s reported YoY growth.  \n",
            "• Adjusted EBITDA of $1.45 billion to $1.53 billion, which represents 58% to 67% YoY  growth.  \n"
          ]
        }
      ]
    },
    {
      "cell_type": "code",
      "source": [
        "print(text_dict_family[0])"
      ],
      "metadata": {
        "colab": {
          "base_uri": "https://localhost:8080/"
        },
        "id": "bNAw4B4SspJt",
        "outputId": "4b8bc460-792f-45de-f706-da9561020dfa"
      },
      "execution_count": 20,
      "outputs": [
        {
          "output_type": "stream",
          "name": "stdout",
          "text": [
            "America’s Families and  \n",
            "Living Arrangements: 2022 \n",
            "By Paul F. Hemez, Chanell N. Washington, and Rose M. KreiderCurrent Population ReportsPopulation Characteristics\n",
            "Issued May 2024P20-587\n",
            "INTRODUCTION \n",
            "This report provides a demographic profile of the \n",
            "households and living arrangements of Americans, and how these have changed over time. Additionally, the COVID-19 pandemic affected the economic well-being of millions of families, as many businesses oper-\n",
            "ated under reduced hours or were lost, causing many \n",
            "people to become underemployed or unemployed. Thus, a secondary goal of this report is to examine changes in the economic well-being of American families before and after the start of the COVID-19 pandemic.\n",
            "This report uses data from the American Community \n",
            "Survey (ACS) and the Current Population Survey’s \n",
            "Annual Social and Economic Supplement (CPS ASEC).\n",
            "1  \n",
            "It capitalizes on the strengths of both datasets, using ACS data about how basic family and household char-acteristics vary across types of living arrangements and geography, and CPS detailed information about \n",
            "how family structures and characteristics vary over \n",
            "time. Due to the impact of the COVID-19 pandemic on data collection across surveys,\n",
            "2 ACS estimates are lim-\n",
            "ited to 2019 and discussions of historical trends in the CPS ASEC do not include data collected in 2020.  \n",
            "1 The U.S. Census Bureau has reviewed this data product for \n",
            "unauthorized disclosure of confidential information and approved the \n",
            "disclosure avoidance practices applied to this release. CBDRB-FY24-\n",
            "SEHSD003-033. Decennial census data are used in Figure 5 of this \n",
            "report.\n",
            "2 C. A. Villa Ross, H. B. Shin, and M. C. Marlay, “Pandemic Impact \n",
            "on 2020 American Community Survey 1-Year Data,” 2021, retrieved from <www.census.gov/newsroom/blogs/random-samplings/2021/10/\n",
            "pandemic-impact-on-2020-acs-1-year-data.html>. Also refer to  \n",
            "J. Rothbaum and A. Bee, “Coronavirus Infects Surveys, Too: Survey \n",
            "Nonresponse Bias and the Coronavirus Pandemic,” 2021, retrieved \n",
            "from <www.census.gov/content/dam/Census/library/working-\n",
            "papers/2020/demo/sehsd-wp2020-10.pdf>.The report contains four sections: (1) households and \n",
            "living arrangements; (2) families; (3) spouses and partners; and (4) the economic well-being of children and couples before and after the start of the COVID-19 pandemic.\n",
            "HIGHLIGHTS \n",
            "• About 47 percent of households were married-couple households in 2022, down from 71 percent in 1970.  \n",
            "• Between 1970 and 2022, the proportion of house-holds that contain one person increased by about 4 percentage points for households with a woman living alone, and by about 8 percentage points for households with a man living alone.\n",
            "• In 2022, about 57 percent of men and 55 percent of women aged 18-24 lived in their parents’ home, compared to 52 percent of men and 35 percent of women that age in 1960.\n",
            "• Less than two-thirds of all family groups with children under the age of 18 were maintained by married parents.\n",
            "• About 74 percent of mothers and 91 percent of fathers were living with their child’s other parent in 2022. \n",
            "• In 2019, about 17 percent of children lived in a household that received food stamps in the previ-ous year, compared to 20 percent in 2021. \n",
            "• The share of children with no coresident parent(s) in the labor force increased from about 7 percent to 8 percent between 2019 and 2021. \n"
          ]
        }
      ]
    },
    {
      "cell_type": "code",
      "source": [
        "def get_page(page_num, name):\n",
        "  text_dict_name = f'text_dict_{name}'  # Concatenate 'text_dict_' with the provided name\n",
        "  text_dict = globals().get(text_dict_name)  # Access the variable using globals()\n",
        "\n",
        "  if text_dict is None:\n",
        "    raise ValueError(f\"Dictionary with name {text_dict_name} not found\")\n",
        "  return text_dict[page_num]\n",
        "\n",
        "get_page(2, 'family')"
      ],
      "metadata": {
        "colab": {
          "base_uri": "https://localhost:8080/",
          "height": 191
        },
        "id": "Qrbbf_D1qOVc",
        "outputId": "35a2010d-60a9-42cc-f7b7-ce945460cd11"
      },
      "execution_count": 16,
      "outputs": [
        {
          "output_type": "execute_result",
          "data": {
            "text/plain": [
              "'U.S. Census Bureau  3\\nTable 1.\\nHouseholds by Type and Selected Characteristics: 2019\\n(Numbers in thousands)\\nCharacteristic\\nAll  \\nhouseholdsFamily households Nonfamily households\\nTotal Married \\ncoupleOther families\\nTotal Male  \\nhouseholderFemale \\nhouseholderMale  \\nhouseholderFemale  \\nhouseholder\\nAll Households . . . . . . . . . . . . . . . . . . 122,800 79,590 58,370 6,168 15,060 43,210 20,330 22,880\\nAge of Householder\\n15 to 24 years  .................... 4,415 1,648 675 370 604 2,766 1,405 1,361\\n25 to 34 years  .................... 18,580 11,440 7,387 1,235 2,822 7,137 4,139 2,998\\n35 to 44 years  .................... 20,990 16,470 11,520 1,407 3,551 4,511 2,732 1,779\\n45 to 54 years  .................... 21,840 16,390 11,950 1,323 3,115 5,446 2,996 2,449\\n55 to 64 years  .................... 23,990 15,670 12,410 977 2,278 8,321 3,958 4,363\\n65 years and over  ................ 33,000 17,970 14,430 856 2,685 15,030 5,104 9,925\\nRace and Hispanic Origin of \\nHouseholder\\nWhite alone  ...................... 93,150 60,300 47,050 4,194 9,058 32,840 15,440 17,400\\n\\u2003Non-Hispanic  .................. 81,930 51,910 41,640 3,259 7,018 30,020 13,950 16,070\\nBlack or African American alone  ... 15,380 9,085 4,191 950 3,945 6,297 2,802 3,495\\nAmerican Indian and  \\nAlaska Native alone  ............. 952 619 351 78 190 333 172 161\\nAsian alone  ...................... 6,052 4,405 3,604 280 520 1,648 812 836\\nNative Hawaiian and  \\nOther Pacific Islander alone  ...... 170 125 76 17 32 45 25 20\\nSome Other Race alone  ........... 4,422 3,398 2,038 475 885 1,024 580 444\\nTwo or More Races  ............... 2,678 1,657 1,058 174 426 1,021 502 519\\nHispanic (any race)  ............... 16,680 12,480 7,823 1,506 3,154 4,199 2,249 1,950\\nSize of Household\\n1 person  ......................... 34,750 X X X X 34,750 15,620 19,130\\n2 people  ......................... 42,100 35,150 26,710 2,401 6,044 6,941 3,748 3,193\\n3 people  ......................... 18,800 17,840 11,440 1,871 4,531 961 604 357\\n4 people  ......................... 15,330 14,950 11,430 1,035 2,485 386 246 140\\n5 people  ......................... 7,213 7,104 5,407 508 1,188 109 72 37\\n6 people  ......................... 2,826 2,792 2,102 208 483 34 22 12\\n7 or more people  ................. 1,785 1,760 1,291 145 325 24 16 8\\nAverage size  ..................... 2.61 3.33 3.27 3.45 3.50 1.28 1.35 1.23\\nNumber of Related Children  \\nUnder 18 Years Old\\nNo related children  ............... 86,670 43,460 34,720 2,875 5,872 43,210 20,330 22,880\\nWith related children 1 ............. 36,130 36,130 23,650 3,293 9,184 X X X\\n\\u20031 child  ......................... 15,510 15,510 9,213 1,787 4,514 X X X\\n\\u20032 children  ...................... 13,100 13,100 9,241 988 2,872 X X X\\n\\u20033 children  ...................... 5,196 5,196 3,628 358 1,209 X X X\\n\\u20034 or more children  .............. 2,321 2,321 1,573 160 588 X X X\\nPresence of Own Children  \\nUnder 18 Years Old\\nNo own children  .................. 90,320 47,110 36,320 3,385 7,413 43,210 20,330 22,880\\nWith own children 2 ............... 32,480 32,480 22,060 2,783 7,643 X X X\\n\\u2003With own children under  \\n\\u200312 years  ...................... 23,240 23,240 16,000 1,955 5,283 X X X\\n\\u2003\\u2003With own children under  \\n\\u2003\\u20036 years  ..................... 13,510 13,510 9,540 1,120 2,851 X X X\\n\\u2003\\u2003With own children under  \\n\\u2003\\u20033 years  ..................... 7,729 7,729 5,575 645 1,509 X X X\\n\\u2003\\u2003With own children under  \\n\\u2003\\u20031 year  ...................... 2,658 2,658 1,928 225 505 X X X\\nTenure\\nOwned home  .................... 78,720 57,360 46,850 3,411 7,105 21,360 9,542 11,820\\nRented home  .................... 41,950 21,150 10,880 2,629 7,642 20,800 10,230 10,560\\nOccupied without payment  ........ 2,132 1,084 648 128 308 1,048 557 491\\nX Not applicable.\\n1 Includes any person who is under 18 years old and related to the householder by birth, marriage, or adoption.\\n2 Includes never married biological, step, and adopted children of the householder under 18 years old.\\nNote: For further information on the accuracy of the data, refer to < https:/ /www2.census.gov/programs-surveys/acs/tech_docs/accuracy/\\nACS_Accuracy_of_Data_2019.pdf >.\\nSource: U.S. Census Bureau, 2019 American Community Survey, 1-year estimates. '"
            ],
            "application/vnd.google.colaboratory.intrinsic+json": {
              "type": "string"
            }
          },
          "metadata": {},
          "execution_count": 16
        }
      ]
    },
    {
      "cell_type": "markdown",
      "source": [],
      "metadata": {
        "id": "1i2vfLoIm8DP"
      }
    }
  ]
}